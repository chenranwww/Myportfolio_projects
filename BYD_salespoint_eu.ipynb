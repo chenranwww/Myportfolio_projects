{
 "cells": [
  {
   "cell_type": "code",
   "execution_count": 7,
   "id": "2b84275b-6533-4fa4-ab0b-de852fef7cf3",
   "metadata": {},
   "outputs": [],
   "source": [
    "from bs4 import BeautifulSoup\n",
    "import requests\n",
    "import time\n",
    "import datetime\n",
    "import smtplib #send email\n",
    "import pandas as pd\n",
    "import json"
   ]
  },
  {
   "cell_type": "code",
   "execution_count": 101,
   "id": "231cd00e-ebde-4032-8dc5-3ced07f3b432",
   "metadata": {},
   "outputs": [],
   "source": [
    "url = 'https://eu-site-api.byd.com/byd-api/eu/dealer/getFindDealer?country=DE&type=sales'\n",
    "headers = {\"User-Agent\": \"Mozilla/5.0 (Windows NT 10.0; Win64; x64) AppleWebKit/537.36 (KHTML, like Gecko) Chrome/136.0.0.0 Safari/537.36\", \"Accept-Encoding\":\"gzip, deflate\", \"Accept\":\"text/html,application/xhtml+xml,application/xml;q=0.9,*/*;q=0.8\", \"DNT\":\"1\",\"Connection\":\"close\", \"Upgrade-Insecure-Requests\":\"1\"}\n",
    "page = requests.get(url, headers = headers)\n",
    "\n",
    "soup1 = BeautifulSoup(page.text, 'html.parser')\n",
    "soup2 = BeautifulSoup(soup1.prettify(), 'html.parser')"
   ]
  },
  {
   "cell_type": "code",
   "execution_count": 103,
   "id": "76cda895-6d95-4c3a-ba5b-f54439021a7c",
   "metadata": {},
   "outputs": [],
   "source": [
    "json_text = soup2.get_text()\n",
    "\n",
    "data = json.loads(json_text)\n",
    "df = pd.json_normalize(data)"
   ]
  },
  {
   "cell_type": "code",
   "execution_count": 37,
   "id": "14f43afc-9280-4377-b049-a64c44da43ee",
   "metadata": {},
   "outputs": [],
   "source": [
    "pd.set_option('display.max_columns', None)"
   ]
  },
  {
   "cell_type": "code",
   "execution_count": 38,
   "id": "b457d05c-667c-4db9-8b08-36f57489538e",
   "metadata": {},
   "outputs": [],
   "source": [
    "df = df[['country','organizationName','lng', 'lat','zipCode','phoneNumber','feature', 'address',]]"
   ]
  },
  {
   "cell_type": "code",
   "execution_count": 46,
   "id": "46ad05a6-9af0-4974-b751-0f7750eef6ce",
   "metadata": {},
   "outputs": [],
   "source": [
    "df = df.copy()\n",
    "df['timestamp'] = pd.to_datetime('now')"
   ]
  },
  {
   "cell_type": "code",
   "execution_count": 9,
   "id": "3673bd79-084d-4a56-bc0b-85dbe4fe523a",
   "metadata": {},
   "outputs": [],
   "source": [
    "import os\n",
    "from time import time\n",
    "from time import sleep\n",
    "from datetime import date"
   ]
  },
  {
   "cell_type": "code",
   "execution_count": 15,
   "id": "c8c8b980-9d65-4367-a69b-8f7e3046282c",
   "metadata": {},
   "outputs": [],
   "source": [
    "def dealer_point_runner(country_list):\n",
    "    \n",
    "    headers = {\"User-Agent\": \"Mozilla/5.0 (Windows NT 10.0; Win64; x64) AppleWebKit/537.36 (KHTML, like Gecko) Chrome/136.0.0.0 Safari/537.36\", \"Accept-Encoding\":\"gzip, deflate\", \"Accept\":\"text/html,application/xhtml+xml,application/xml;q=0.9,*/*;q=0.8\", \"DNT\":\"1\",\"Connection\":\"close\", \"Upgrade-Insecure-Requests\":\"1\"}\n",
    "\n",
    "    for country in country_list:\n",
    "        url = f'https://eu-site-api.byd.com/byd-api/eu/dealer/getFindDealer?country={country}&type=sales'\n",
    "        try:\n",
    "            page = requests.get(url, headers = headers)\n",
    "            soup1 = BeautifulSoup(page.text, 'html.parser')\n",
    "            soup2 = BeautifulSoup(soup1.prettify(), 'html.parser')\n",
    "\n",
    "            json_text = soup2.get_text()\n",
    "            data = json.loads(json_text)\n",
    "            df = pd.json_normalize(data)\n",
    "\n",
    "            df = df[['country','organizationName','lng', 'lat','zipCode','phoneNumber','feature', 'address',]]\n",
    "            df = df.copy()\n",
    "            df['timestamp'] = date.today()\n",
    "\n",
    "            # correct the misordered input location data\n",
    "            condition = (df['lng'] > 40) & (df['lat'] < 30)\n",
    "            df = df.copy()\n",
    "            df.loc[condition, ['lng', 'lat']] = df.loc[condition, ['lat', 'lng']].values\n",
    "\n",
    "            if not os.path.isfile(r'D:\\DS_road\\data\\web_scraping\\BYD_eunew.csv'):\n",
    "                df.to_csv(r'D:\\DS_road\\data\\web_scraping\\BYD_eunew.csv',header = 'column_names')\n",
    "            else:\n",
    "                df.to_csv(r'D:\\DS_road\\data\\web_scraping\\BYD_eunew.csv',mode = 'a',header = False)\n",
    "            print(f\"Successfully scraped {country}\")\n",
    "\n",
    "        except Exception as e:\n",
    "            print(f\"Failed for {country}: {e}\")"
   ]
  },
  {
   "cell_type": "code",
   "execution_count": 17,
   "id": "55a862ee-bfed-4e7e-8b5d-c0826e0c04df",
   "metadata": {},
   "outputs": [
    {
     "name": "stdout",
     "output_type": "stream",
     "text": [
      "Successfully scraped BE\n",
      "Failed for BG: \"None of [Index(['country', 'organizationName', 'lng', 'lat', 'zipCode', 'phoneNumber',\\n       'feature', 'address'],\\n      dtype='object')] are in the [columns]\"\n",
      "Successfully scraped CZ\n",
      "Successfully scraped DK\n",
      "Successfully scraped DE\n",
      "Successfully scraped EE\n",
      "Successfully scraped IE\n",
      "Failed for EL: \"None of [Index(['country', 'organizationName', 'lng', 'lat', 'zipCode', 'phoneNumber',\\n       'feature', 'address'],\\n      dtype='object')] are in the [columns]\"\n",
      "Successfully scraped ES\n",
      "Successfully scraped FR\n",
      "Successfully scraped HR\n",
      "Successfully scraped IT\n",
      "Failed for CY: \"None of [Index(['country', 'organizationName', 'lng', 'lat', 'zipCode', 'phoneNumber',\\n       'feature', 'address'],\\n      dtype='object')] are in the [columns]\"\n",
      "Successfully scraped LV\n",
      "Successfully scraped LT\n",
      "Successfully scraped LU\n",
      "Successfully scraped HU\n",
      "Failed for MT: \"None of [Index(['country', 'organizationName', 'lng', 'lat', 'zipCode', 'phoneNumber',\\n       'feature', 'address'],\\n      dtype='object')] are in the [columns]\"\n",
      "Successfully scraped NL\n",
      "Successfully scraped AT\n",
      "Successfully scraped PL\n",
      "Successfully scraped PT\n",
      "Failed for RO: \"None of [Index(['country', 'organizationName', 'lng', 'lat', 'zipCode', 'phoneNumber',\\n       'feature', 'address'],\\n      dtype='object')] are in the [columns]\"\n",
      "Failed for SI: \"None of [Index(['country', 'organizationName', 'lng', 'lat', 'zipCode', 'phoneNumber',\\n       'feature', 'address'],\\n      dtype='object')] are in the [columns]\"\n",
      "Successfully scraped SK\n",
      "Successfully scraped FI\n",
      "Successfully scraped SE\n",
      "Successfully scraped NO\n",
      "Successfully scraped CH\n",
      "one rund completed\n"
     ]
    },
    {
     "ename": "KeyboardInterrupt",
     "evalue": "",
     "output_type": "error",
     "traceback": [
      "\u001b[1;31m---------------------------------------------------------------------------\u001b[0m",
      "\u001b[1;31mKeyboardInterrupt\u001b[0m                         Traceback (most recent call last)",
      "Cell \u001b[1;32mIn[17], line 7\u001b[0m\n\u001b[0;32m      5\u001b[0m     dealer_point_runner(country_codes)\n\u001b[0;32m      6\u001b[0m     \u001b[38;5;28mprint\u001b[39m(\u001b[38;5;124m\"\u001b[39m\u001b[38;5;124mone rund completed\u001b[39m\u001b[38;5;124m\"\u001b[39m)\n\u001b[1;32m----> 7\u001b[0m     sleep(\u001b[38;5;241m60\u001b[39m) \u001b[38;5;66;03m#432000 = 5days\u001b[39;00m\n\u001b[0;32m      8\u001b[0m exit()\n",
      "\u001b[1;31mKeyboardInterrupt\u001b[0m: "
     ]
    }
   ],
   "source": [
    "country_codes = ['BE','BG','CZ','DK','DE','EE','IE','EL','ES','FR','HR','IT','CY','LV','LT','LU','HU','MT','NL','AT','PL','PT','RO','SI','SK','FI','SE','NO','CH']\n",
    "\n",
    "for i in range(333):\n",
    "    \n",
    "    dealer_point_runner(country_codes)\n",
    "    print(\"one rund completed\")\n",
    "    sleep(60)  #432000 = 5days\n",
    "exit()"
   ]
  }
 ],
 "metadata": {
  "kernelspec": {
   "display_name": "Python [conda env:base] *",
   "language": "python",
   "name": "conda-base-py"
  },
  "language_info": {
   "codemirror_mode": {
    "name": "ipython",
    "version": 3
   },
   "file_extension": ".py",
   "mimetype": "text/x-python",
   "name": "python",
   "nbconvert_exporter": "python",
   "pygments_lexer": "ipython3",
   "version": "3.12.7"
  }
 },
 "nbformat": 4,
 "nbformat_minor": 5
}
